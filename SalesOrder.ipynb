{
 "cells": [
  {
   "cell_type": "code",
   "execution_count": 13,
   "metadata": {},
   "outputs": [
    {
     "name": "stdout",
     "output_type": "stream",
     "text": [
      "Requirement already satisfied: pandas in c:\\users\\15447\\appdata\\local\\programs\\python\\python310\\lib\\site-packages (1.4.3)\n",
      "Requirement already satisfied: python-dateutil>=2.8.1 in c:\\users\\15447\\appdata\\local\\programs\\python\\python310\\lib\\site-packages (from pandas) (2.8.2)\n",
      "Requirement already satisfied: numpy>=1.21.0 in c:\\users\\15447\\appdata\\local\\programs\\python\\python310\\lib\\site-packages (from pandas) (1.23.2)\n",
      "Requirement already satisfied: pytz>=2020.1 in c:\\users\\15447\\appdata\\local\\programs\\python\\python310\\lib\\site-packages (from pandas) (2022.2.1)\n",
      "Requirement already satisfied: six>=1.5 in c:\\users\\15447\\appdata\\local\\programs\\python\\python310\\lib\\site-packages (from python-dateutil>=2.8.1->pandas) (1.16.0)\n"
     ]
    },
    {
     "name": "stderr",
     "output_type": "stream",
     "text": [
      "WARNING: You are using pip version 22.0.4; however, version 22.3.1 is available.\n",
      "You should consider upgrading via the 'C:\\Users\\15447\\AppData\\Local\\Programs\\Python\\Python310\\python.exe -m pip install --upgrade pip' command.\n"
     ]
    }
   ],
   "source": [
    "! pip install pandas"
   ]
  },
  {
   "cell_type": "code",
   "execution_count": 14,
   "metadata": {},
   "outputs": [
    {
     "name": "stdout",
     "output_type": "stream",
     "text": [
      "Requirement already satisfied: pandas-profiling in c:\\users\\15447\\appdata\\local\\programs\\python\\python310\\lib\\site-packages (3.2.0)\n",
      "Requirement already satisfied: requests>=2.24.0 in c:\\users\\15447\\appdata\\local\\programs\\python\\python310\\lib\\site-packages (from pandas-profiling) (2.28.1)\n",
      "Requirement already satisfied: pandas!=1.0.0,!=1.0.1,!=1.0.2,!=1.1.0,>=0.25.3 in c:\\users\\15447\\appdata\\local\\programs\\python\\python310\\lib\\site-packages (from pandas-profiling) (1.4.3)\n",
      "Requirement already satisfied: PyYAML>=5.0.0 in c:\\users\\15447\\appdata\\local\\programs\\python\\python310\\lib\\site-packages (from pandas-profiling) (6.0)\n",
      "Requirement already satisfied: multimethod>=1.4 in c:\\users\\15447\\appdata\\local\\programs\\python\\python310\\lib\\site-packages (from pandas-profiling) (1.8)\n",
      "Requirement already satisfied: markupsafe~=2.1.1 in c:\\users\\15447\\appdata\\local\\programs\\python\\python310\\lib\\site-packages (from pandas-profiling) (2.1.1)\n",
      "Requirement already satisfied: matplotlib>=3.2.0 in c:\\users\\15447\\appdata\\local\\programs\\python\\python310\\lib\\site-packages (from pandas-profiling) (3.5.3)\n",
      "Requirement already satisfied: pydantic>=1.8.1 in c:\\users\\15447\\appdata\\local\\programs\\python\\python310\\lib\\site-packages (from pandas-profiling) (1.9.2)\n",
      "Requirement already satisfied: visions[type_image_path]==0.7.4 in c:\\users\\15447\\appdata\\local\\programs\\python\\python310\\lib\\site-packages (from pandas-profiling) (0.7.4)\n",
      "Requirement already satisfied: tangled-up-in-unicode==0.2.0 in c:\\users\\15447\\appdata\\local\\programs\\python\\python310\\lib\\site-packages (from pandas-profiling) (0.2.0)\n",
      "Requirement already satisfied: joblib~=1.1.0 in c:\\users\\15447\\appdata\\local\\programs\\python\\python310\\lib\\site-packages (from pandas-profiling) (1.1.0)\n",
      "Requirement already satisfied: scipy>=1.4.1 in c:\\users\\15447\\appdata\\local\\programs\\python\\python310\\lib\\site-packages (from pandas-profiling) (1.9.1)\n",
      "Requirement already satisfied: htmlmin>=0.1.12 in c:\\users\\15447\\appdata\\local\\programs\\python\\python310\\lib\\site-packages (from pandas-profiling) (0.1.12)\n",
      "Requirement already satisfied: missingno>=0.4.2 in c:\\users\\15447\\appdata\\local\\programs\\python\\python310\\lib\\site-packages (from pandas-profiling) (0.5.1)\n",
      "Requirement already satisfied: tqdm>=4.48.2 in c:\\users\\15447\\appdata\\local\\programs\\python\\python310\\lib\\site-packages (from pandas-profiling) (4.64.0)\n",
      "Requirement already satisfied: seaborn>=0.10.1 in c:\\users\\15447\\appdata\\local\\programs\\python\\python310\\lib\\site-packages (from pandas-profiling) (0.11.2)\n",
      "Requirement already satisfied: jinja2>=2.11.1 in c:\\users\\15447\\appdata\\local\\programs\\python\\python310\\lib\\site-packages (from pandas-profiling) (3.1.2)\n",
      "Requirement already satisfied: phik>=0.11.1 in c:\\users\\15447\\appdata\\local\\programs\\python\\python310\\lib\\site-packages (from pandas-profiling) (0.12.2)\n",
      "Requirement already satisfied: numpy>=1.16.0 in c:\\users\\15447\\appdata\\local\\programs\\python\\python310\\lib\\site-packages (from pandas-profiling) (1.23.2)\n",
      "Requirement already satisfied: attrs>=19.3.0 in c:\\users\\15447\\appdata\\local\\programs\\python\\python310\\lib\\site-packages (from visions[type_image_path]==0.7.4->pandas-profiling) (22.1.0)\n",
      "Requirement already satisfied: networkx>=2.4 in c:\\users\\15447\\appdata\\local\\programs\\python\\python310\\lib\\site-packages (from visions[type_image_path]==0.7.4->pandas-profiling) (2.8.6)\n",
      "Requirement already satisfied: Pillow in c:\\users\\15447\\appdata\\local\\programs\\python\\python310\\lib\\site-packages (from visions[type_image_path]==0.7.4->pandas-profiling) (9.2.0)\n",
      "Requirement already satisfied: imagehash in c:\\users\\15447\\appdata\\local\\programs\\python\\python310\\lib\\site-packages (from visions[type_image_path]==0.7.4->pandas-profiling) (4.2.1)\n",
      "Requirement already satisfied: packaging>=20.0 in c:\\users\\15447\\appdata\\local\\programs\\python\\python310\\lib\\site-packages (from matplotlib>=3.2.0->pandas-profiling) (21.3)\n",
      "Requirement already satisfied: kiwisolver>=1.0.1 in c:\\users\\15447\\appdata\\local\\programs\\python\\python310\\lib\\site-packages (from matplotlib>=3.2.0->pandas-profiling) (1.4.4)\n",
      "Requirement already satisfied: cycler>=0.10 in c:\\users\\15447\\appdata\\local\\programs\\python\\python310\\lib\\site-packages (from matplotlib>=3.2.0->pandas-profiling) (0.11.0)\n",
      "Requirement already satisfied: pyparsing>=2.2.1 in c:\\users\\15447\\appdata\\local\\programs\\python\\python310\\lib\\site-packages (from matplotlib>=3.2.0->pandas-profiling) (3.0.9)\n",
      "Requirement already satisfied: python-dateutil>=2.7 in c:\\users\\15447\\appdata\\local\\programs\\python\\python310\\lib\\site-packages (from matplotlib>=3.2.0->pandas-profiling) (2.8.2)\n",
      "Requirement already satisfied: fonttools>=4.22.0 in c:\\users\\15447\\appdata\\local\\programs\\python\\python310\\lib\\site-packages (from matplotlib>=3.2.0->pandas-profiling) (4.37.1)\n",
      "Requirement already satisfied: pytz>=2020.1 in c:\\users\\15447\\appdata\\local\\programs\\python\\python310\\lib\\site-packages (from pandas!=1.0.0,!=1.0.1,!=1.0.2,!=1.1.0,>=0.25.3->pandas-profiling) (2022.2.1)\n",
      "Requirement already satisfied: typing-extensions>=3.7.4.3 in c:\\users\\15447\\appdata\\local\\programs\\python\\python310\\lib\\site-packages (from pydantic>=1.8.1->pandas-profiling) (4.3.0)\n",
      "Requirement already satisfied: charset-normalizer<3,>=2 in c:\\users\\15447\\appdata\\local\\programs\\python\\python310\\lib\\site-packages (from requests>=2.24.0->pandas-profiling) (2.1.1)\n",
      "Requirement already satisfied: idna<4,>=2.5 in c:\\users\\15447\\appdata\\local\\programs\\python\\python310\\lib\\site-packages (from requests>=2.24.0->pandas-profiling) (3.3)\n",
      "Requirement already satisfied: certifi>=2017.4.17 in c:\\users\\15447\\appdata\\local\\programs\\python\\python310\\lib\\site-packages (from requests>=2.24.0->pandas-profiling) (2022.6.15)\n",
      "Requirement already satisfied: urllib3<1.27,>=1.21.1 in c:\\users\\15447\\appdata\\local\\programs\\python\\python310\\lib\\site-packages (from requests>=2.24.0->pandas-profiling) (1.26.12)\n",
      "Requirement already satisfied: colorama in c:\\users\\15447\\appdata\\local\\programs\\python\\python310\\lib\\site-packages (from tqdm>=4.48.2->pandas-profiling) (0.4.5)\n",
      "Requirement already satisfied: six>=1.5 in c:\\users\\15447\\appdata\\local\\programs\\python\\python310\\lib\\site-packages (from python-dateutil>=2.7->matplotlib>=3.2.0->pandas-profiling) (1.16.0)\n",
      "Requirement already satisfied: PyWavelets in c:\\users\\15447\\appdata\\local\\programs\\python\\python310\\lib\\site-packages (from imagehash->visions[type_image_path]==0.7.4->pandas-profiling) (1.3.0)\n"
     ]
    },
    {
     "name": "stderr",
     "output_type": "stream",
     "text": [
      "WARNING: You are using pip version 22.0.4; however, version 22.3.1 is available.\n",
      "You should consider upgrading via the 'C:\\Users\\15447\\AppData\\Local\\Programs\\Python\\Python310\\python.exe -m pip install --upgrade pip' command.\n"
     ]
    }
   ],
   "source": [
    "! pip install pandas-profiling"
   ]
  },
  {
   "cell_type": "code",
   "execution_count": 15,
   "metadata": {},
   "outputs": [],
   "source": [
    "from pandas_profiling import ProfileReport"
   ]
  },
  {
   "cell_type": "code",
   "execution_count": 16,
   "metadata": {},
   "outputs": [],
   "source": [
    "import pandas as pd"
   ]
  },
  {
   "cell_type": "code",
   "execution_count": 24,
   "metadata": {},
   "outputs": [],
   "source": [
    "df = pd.read_csv(\"C:\\\\Users\\\\15447\\\\Documents\\\\O2C Data\\\\O2C QDI Data\\\\Sales Header.csv\", encoding='latin1')"
   ]
  },
  {
   "cell_type": "code",
   "execution_count": 25,
   "metadata": {},
   "outputs": [
    {
     "name": "stdout",
     "output_type": "stream",
     "text": [
      "<class 'pandas.core.frame.DataFrame'>\n",
      "RangeIndex: 44 entries, 0 to 43\n",
      "Data columns (total 18 columns):\n",
      " #   Column                   Non-Null Count  Dtype  \n",
      "---  ------                   --------------  -----  \n",
      " 0   Document Type            44 non-null     int64  \n",
      " 1   No_                      44 non-null     int64  \n",
      " 2   Sell-to Customer No_     44 non-null     int64  \n",
      " 3   Ship-to Name             44 non-null     object \n",
      " 4   Ship-to City             44 non-null     object \n",
      " 5   Order Date               44 non-null     object \n",
      " 6   Posting Date             44 non-null     object \n",
      " 7   Shipment Date            44 non-null     object \n",
      " 8   Payment Terms Code       44 non-null     object \n",
      " 9   Ship                     44 non-null     int64  \n",
      " 10  Invoice                  44 non-null     int64  \n",
      " 11  Requested Delivery Date  44 non-null     object \n",
      " 12  Promised Delivery Date   44 non-null     object \n",
      " 13  State                    17 non-null     object \n",
      " 14  Sell-to Customer Name    44 non-null     object \n",
      " 15  Currency Factor          44 non-null     float64\n",
      " 16  Salesperson Code         44 non-null     object \n",
      " 17  Responsibility Center    12 non-null     object \n",
      "dtypes: float64(1), int64(5), object(12)\n",
      "memory usage: 6.3+ KB\n"
     ]
    }
   ],
   "source": [
    "df.info()"
   ]
  }
 ],
 "metadata": {
  "kernelspec": {
   "display_name": "Python 3",
   "language": "python",
   "name": "python3"
  },
  "language_info": {
   "codemirror_mode": {
    "name": "ipython",
    "version": 3
   },
   "file_extension": ".py",
   "mimetype": "text/x-python",
   "name": "python",
   "nbconvert_exporter": "python",
   "pygments_lexer": "ipython3",
   "version": "3.10.5"
  },
  "orig_nbformat": 4,
  "vscode": {
   "interpreter": {
    "hash": "3d8e279ce21c49c19bc07d1259fff4e4040c9658cf857139a87a34baba0ec28d"
   }
  }
 },
 "nbformat": 4,
 "nbformat_minor": 2
}
